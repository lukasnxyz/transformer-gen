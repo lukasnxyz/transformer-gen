{
 "cells": [
  {
   "cell_type": "code",
   "execution_count": 1,
   "id": "e9bdcd71",
   "metadata": {},
   "outputs": [],
   "source": [
    "import torch\n",
    "from torch import nn\n",
    "import matplotlib.pyplot as plt"
   ]
  },
  {
   "cell_type": "code",
   "execution_count": 24,
   "id": "321296c2",
   "metadata": {},
   "outputs": [
    {
     "data": {
      "text/plain": [
       "('First Citizen:\\nBefore we proceed any further, hear',\n",
       " '?\\n\\nGREMIO:\\nGood morrow, neighbour Baptis')"
      ]
     },
     "execution_count": 24,
     "metadata": {},
     "output_type": "execute_result"
    }
   ],
   "source": [
    "import os\n",
    "import requests\n",
    "import numpy as np\n",
    "\n",
    "# download the tiny shakespeare dataset\n",
    "input_file_path = os.path.join(\"data\", 'input.txt')\n",
    "if not os.path.exists(input_file_path):\n",
    "    data_url = 'https://raw.githubusercontent.com/karpathy/char-rnn/master/data/tinyshakespeare/input.txt'\n",
    "    with open(input_file_path, 'w', encoding='utf-8') as f:\n",
    "        f.write(requests.get(data_url).text)\n",
    "\n",
    "with open(input_file_path, 'r', encoding='utf-8') as f:\n",
    "    data = f.read()\n",
    "n = len(data)\n",
    "train_data = data[:int(n*0.9)] # ~1,000,000 chars\n",
    "val_data = data[int(n*0.9):] # ~100,000 chars\n",
    "\n",
    "train_data[:50], val_data[:40]"
   ]
  },
  {
   "cell_type": "code",
   "execution_count": 23,
   "id": "7b8d48f7",
   "metadata": {},
   "outputs": [
    {
     "name": "stdout",
     "output_type": "stream",
     "text": [
      "First Citizen:\n",
      "Before we proceed any further, hear\n",
      "-----------\n",
      "?\n",
      "\n",
      "GREMIO:\n",
      "Good morrow, neighbour Baptis\n"
     ]
    }
   ],
   "source": [
    "print(train_data[:50])\n",
    "print(\"-----------\")\n",
    "print(val_data[:40])"
   ]
  },
  {
   "cell_type": "code",
   "execution_count": null,
   "id": "89995b85",
   "metadata": {},
   "outputs": [],
   "source": []
  },
  {
   "cell_type": "code",
   "execution_count": null,
   "id": "7d39d2fb",
   "metadata": {},
   "outputs": [],
   "source": [
    "class MNISTGen(nn.Module):\n",
    "  def __init__(self):\n",
    "    pass\n",
    "  \n",
    "  def forward(self, x):\n",
    "    pass"
   ]
  }
 ],
 "metadata": {
  "kernelspec": {
   "display_name": "Python 3 (ipykernel)",
   "language": "python",
   "name": "python3"
  },
  "language_info": {
   "codemirror_mode": {
    "name": "ipython",
    "version": 3
   },
   "file_extension": ".py",
   "mimetype": "text/x-python",
   "name": "python",
   "nbconvert_exporter": "python",
   "pygments_lexer": "ipython3",
   "version": "3.11.6"
  }
 },
 "nbformat": 4,
 "nbformat_minor": 5
}

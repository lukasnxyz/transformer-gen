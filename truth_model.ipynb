{
 "cells": [
  {
   "cell_type": "code",
   "execution_count": 1,
   "id": "3139fc80-4499-448b-b12d-ee5e8b21c566",
   "metadata": {},
   "outputs": [],
   "source": [
    "import torch\n",
    "import torch.nn as nn"
   ]
  },
  {
   "cell_type": "code",
   "execution_count": 2,
   "id": "43c662c2-a0f9-4f7e-ad69-621cc14ca1cc",
   "metadata": {},
   "outputs": [],
   "source": [
    "# truth sentences\n",
    "# different context lenght, maybe different token encoding? (train on words?)\n",
    "# transformer"
   ]
  },
  {
   "cell_type": "code",
   "execution_count": null,
   "id": "75e54a4a-009f-4534-94e3-f4b8e02c6a1a",
   "metadata": {},
   "outputs": [],
   "source": []
  }
 ],
 "metadata": {
  "kernelspec": {
   "display_name": "notebook_venv",
   "language": "python",
   "name": "notebook_venv"
  },
  "language_info": {
   "codemirror_mode": {
    "name": "ipython",
    "version": 3
   },
   "file_extension": ".py",
   "mimetype": "text/x-python",
   "name": "python",
   "nbconvert_exporter": "python",
   "pygments_lexer": "ipython3",
   "version": "3.12.4"
  }
 },
 "nbformat": 4,
 "nbformat_minor": 5
}

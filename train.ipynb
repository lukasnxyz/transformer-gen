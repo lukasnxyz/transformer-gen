{
 "cells": [
  {
   "cell_type": "code",
   "execution_count": 1,
   "id": "6e82860d-2592-4be2-bbf2-7124964d6df8",
   "metadata": {
    "id": "6e82860d-2592-4be2-bbf2-7124964d6df8"
   },
   "outputs": [
    {
     "name": "stderr",
     "output_type": "stream",
     "text": [
      "/Users/ln/Downloads/notebook_venv/lib/python3.12/site-packages/tqdm/auto.py:21: TqdmWarning: IProgress not found. Please update jupyter and ipywidgets. See https://ipywidgets.readthedocs.io/en/stable/user_install.html\n",
      "  from .autonotebook import tqdm as notebook_tqdm\n"
     ]
    }
   ],
   "source": [
    "import torch\n",
    "import torch.nn as nn\n",
    "import time\n",
    "from tqdm import tqdm\n",
    "\n",
    "from model.transformer import TLM\n",
    "from model.utils import n_params\n",
    "from tokens import Tokens"
   ]
  },
  {
   "cell_type": "code",
   "execution_count": 2,
   "id": "f0c9d7f1-b469-4b91-b864-2790e04dd979",
   "metadata": {
    "id": "f0c9d7f1-b469-4b91-b864-2790e04dd979"
   },
   "outputs": [
    {
     "name": "stdout",
     "output_type": "stream",
     "text": [
      "using device: mps\n"
     ]
    }
   ],
   "source": [
    "torch.manual_seed(42)\n",
    "d_opts = [('cuda', torch.cuda.is_available()), ('mps', torch.backends.mps.is_available()), ('cpu', True)]\n",
    "device = next(device for device, available in d_opts if available)\n",
    "print(f'using device: {device}')"
   ]
  },
  {
   "cell_type": "code",
   "execution_count": 3,
   "id": "c948d1f7-0c44-4bd5-b865-9cd2c9bf537b",
   "metadata": {
    "id": "c948d1f7-0c44-4bd5-b865-9cd2c9bf537b"
   },
   "outputs": [
    {
     "name": "stdout",
     "output_type": "stream",
     "text": [
      "4999/5000\r"
     ]
    }
   ],
   "source": [
    "vocab_size = 5000\n",
    "with open ('data/tiny_shakespeare.txt', 'r', encoding='utf-8') as f:\n",
    "    corpus = f.read() # 15,057 unique words\n",
    "    tks = Tokens(corpus, vocab_size) # 50,000 in gpt-2\n",
    "tokenized = tks.tokenize(corpus)\n",
    "encoded = tks.encode(tokenized)"
   ]
  },
  {
   "cell_type": "code",
   "execution_count": 4,
   "id": "WZqFf4IvoNrR",
   "metadata": {
    "id": "WZqFf4IvoNrR"
   },
   "outputs": [],
   "source": [
    "data = torch.tensor(encoded, dtype=torch.long, device=device)\n",
    "n = int(0.85*len(data))\n",
    "train_data = data[:n]\n",
    "val_data = data[n:]"
   ]
  },
  {
   "cell_type": "code",
   "execution_count": 5,
   "id": "d412055f-3cf4-433c-89b1-6291a7974037",
   "metadata": {
    "id": "d412055f-3cf4-433c-89b1-6291a7974037"
   },
   "outputs": [],
   "source": [
    "def get_batch(split: str):\n",
    "    data = train_data if split == 'train' else val_data\n",
    "    ix = torch.randint(len(data) - block_size, (batch_size,))\n",
    "    x = torch.stack([data[i:i+block_size] for i in ix])\n",
    "    y = torch.stack([data[i+1:i+block_size+1] for i in ix])\n",
    "    return x.to(device), y.to(device)"
   ]
  },
  {
   "cell_type": "code",
   "execution_count": 6,
   "id": "26fb22c4-65dc-4d59-873a-9d990c8d2893",
   "metadata": {
    "id": "26fb22c4-65dc-4d59-873a-9d990c8d2893"
   },
   "outputs": [],
   "source": [
    "@torch.no_grad()\n",
    "def estimate_loss(m):\n",
    "    out = {}\n",
    "    m.eval()\n",
    "    eval_iters = 200\n",
    "    for split in ['train', 'val']:\n",
    "        losses = torch.zeros(eval_iters)\n",
    "        for k in range(eval_iters):\n",
    "            X, Y = get_batch(split)\n",
    "            logits, loss = m(X, Y)\n",
    "            losses[k] = loss.item()\n",
    "        out[split] = losses.mean()\n",
    "    m.train()\n",
    "    return out"
   ]
  },
  {
   "cell_type": "code",
   "execution_count": 11,
   "id": "68ee8709-9236-440a-b8db-10dee2c6c44d",
   "metadata": {
    "id": "68ee8709-9236-440a-b8db-10dee2c6c44d"
   },
   "outputs": [],
   "source": [
    "# hyperparameters\n",
    "batch_size = 32\n",
    "block_size = 144 # 1024 in gpt-2\n",
    "n_embd = 96 # 768 in gpt-2\n",
    "n_blocks = 6\n",
    "n_heads = 4\n",
    "\n",
    "lr = 1e-2\n",
    "iters = 10000\n",
    "i_eval = 625"
   ]
  },
  {
   "cell_type": "code",
   "execution_count": 12,
   "id": "ffc4fbef-78fc-4b8a-a86f-8a182435634c",
   "metadata": {
    "id": "ffc4fbef-78fc-4b8a-a86f-8a182435634c"
   },
   "outputs": [
    {
     "name": "stdout",
     "output_type": "stream",
     "text": [
      "num of params: 1648136\n"
     ]
    }
   ],
   "source": [
    "model = TLM(block_size=block_size, n_embd=n_embd, vocab_size=vocab_size,\n",
    "            n_blocks=n_blocks, n_heads=n_heads, device=device).to(device)\n",
    "optimizer = torch.optim.AdamW(model.parameters(), lr=lr)\n",
    "\n",
    "print(f'num of params: {n_params(model)}') # gpt-2 has 1,500,000,000 (1.5B)"
   ]
  },
  {
   "cell_type": "code",
   "execution_count": 13,
   "id": "581b8b15-8f7a-4751-b1d1-07263d340950",
   "metadata": {
    "id": "581b8b15-8f7a-4751-b1d1-07263d340950"
   },
   "outputs": [
    {
     "name": "stderr",
     "output_type": "stream",
     "text": [
      "  0%|                                                                                                                        | 3/10000 [00:10<7:17:25,  2.63s/it]"
     ]
    },
    {
     "name": "stdout",
     "output_type": "stream",
     "text": [
      "step 0: train loss 17.7879 val loss 17.6634\n"
     ]
    },
    {
     "name": "stderr",
     "output_type": "stream",
     "text": [
      "  6%|███████▍                                                                                                              | 627/10000 [01:13<3:49:54,  1.47s/it]"
     ]
    },
    {
     "name": "stdout",
     "output_type": "stream",
     "text": [
      "step 625: train loss 3.8196 val loss 5.1356\n"
     ]
    },
    {
     "name": "stderr",
     "output_type": "stream",
     "text": [
      " 13%|██████████████▋                                                                                                      | 1253/10000 [02:18<2:48:07,  1.15s/it]"
     ]
    },
    {
     "name": "stdout",
     "output_type": "stream",
     "text": [
      "step 1250: train loss 3.3460 val loss 5.2896\n"
     ]
    },
    {
     "name": "stderr",
     "output_type": "stream",
     "text": [
      " 19%|█████████████████████▉                                                                                               | 1877/10000 [03:37<7:16:52,  3.23s/it]"
     ]
    },
    {
     "name": "stdout",
     "output_type": "stream",
     "text": [
      "step 1875: train loss 2.9930 val loss 5.5515\n"
     ]
    },
    {
     "name": "stderr",
     "output_type": "stream",
     "text": [
      " 25%|█████████████████████████████▎                                                                                       | 2502/10000 [04:57<5:15:49,  2.53s/it]"
     ]
    },
    {
     "name": "stdout",
     "output_type": "stream",
     "text": [
      "step 2500: train loss 2.7473 val loss 5.8028\n"
     ]
    },
    {
     "name": "stderr",
     "output_type": "stream",
     "text": [
      " 31%|████████████████████████████████████▌                                                                                | 3127/10000 [06:15<4:42:37,  2.47s/it]"
     ]
    },
    {
     "name": "stdout",
     "output_type": "stream",
     "text": [
      "step 3125: train loss 2.5955 val loss 5.9678\n"
     ]
    },
    {
     "name": "stderr",
     "output_type": "stream",
     "text": [
      " 38%|███████████████████████████████████████████▉                                                                         | 3752/10000 [07:41<4:22:27,  2.52s/it]"
     ]
    },
    {
     "name": "stdout",
     "output_type": "stream",
     "text": [
      "step 3750: train loss 2.4413 val loss 6.1392\n"
     ]
    },
    {
     "name": "stderr",
     "output_type": "stream",
     "text": [
      " 44%|███████████████████████████████████████████████████▏                                                                 | 4377/10000 [08:56<2:40:00,  1.71s/it]"
     ]
    },
    {
     "name": "stdout",
     "output_type": "stream",
     "text": [
      "step 4375: train loss 2.3332 val loss 6.3541\n"
     ]
    },
    {
     "name": "stderr",
     "output_type": "stream",
     "text": [
      " 50%|██████████████████████████████████████████████████████████▌                                                          | 5002/10000 [10:05<2:16:06,  1.63s/it]"
     ]
    },
    {
     "name": "stdout",
     "output_type": "stream",
     "text": [
      "step 5000: train loss 2.2518 val loss 6.4904\n"
     ]
    },
    {
     "name": "stderr",
     "output_type": "stream",
     "text": [
      " 56%|█████████████████████████████████████████████████████████████████▊                                                   | 5627/10000 [11:20<2:03:41,  1.70s/it]"
     ]
    },
    {
     "name": "stdout",
     "output_type": "stream",
     "text": [
      "step 5625: train loss 2.1702 val loss 6.5579\n"
     ]
    },
    {
     "name": "stderr",
     "output_type": "stream",
     "text": [
      " 63%|█████████████████████████████████████████████████████████████████████████▏                                           | 6252/10000 [12:37<2:02:22,  1.96s/it]"
     ]
    },
    {
     "name": "stdout",
     "output_type": "stream",
     "text": [
      "step 6250: train loss 2.1227 val loss 6.6757\n"
     ]
    },
    {
     "name": "stderr",
     "output_type": "stream",
     "text": [
      " 69%|█████████████████████████████████████████████████████████████████████████████████▊                                     | 6878/10000 [13:53<59:47,  1.15s/it]"
     ]
    },
    {
     "name": "stdout",
     "output_type": "stream",
     "text": [
      "step 6875: train loss 2.0604 val loss 6.7585\n"
     ]
    },
    {
     "name": "stderr",
     "output_type": "stream",
     "text": [
      " 75%|███████████████████████████████████████████████████████████████████████████████████████▊                             | 7502/10000 [14:56<1:00:09,  1.44s/it]"
     ]
    },
    {
     "name": "stdout",
     "output_type": "stream",
     "text": [
      "step 7500: train loss 2.0164 val loss 6.8601\n"
     ]
    },
    {
     "name": "stderr",
     "output_type": "stream",
     "text": [
      " 81%|████████████████████████████████████████████████████████████████████████████████████████████████▋                      | 8128/10000 [16:00<34:59,  1.12s/it]"
     ]
    },
    {
     "name": "stdout",
     "output_type": "stream",
     "text": [
      "step 8125: train loss 1.9570 val loss 6.9410\n"
     ]
    },
    {
     "name": "stderr",
     "output_type": "stream",
     "text": [
      " 88%|████████████████████████████████████████████████████████████████████████████████████████████████████████▏              | 8752/10000 [17:07<31:45,  1.53s/it]"
     ]
    },
    {
     "name": "stdout",
     "output_type": "stream",
     "text": [
      "step 8750: train loss 1.9214 val loss 6.9566\n"
     ]
    },
    {
     "name": "stderr",
     "output_type": "stream",
     "text": [
      " 94%|███████████████████████████████████████████████████████████████████████████████████████████████████████████████▌       | 9378/10000 [18:11<11:12,  1.08s/it]"
     ]
    },
    {
     "name": "stdout",
     "output_type": "stream",
     "text": [
      "step 9375: train loss 1.9062 val loss 7.0632\n"
     ]
    },
    {
     "name": "stderr",
     "output_type": "stream",
     "text": [
      "100%|██████████████████████████████████████████████████████████████████████████████████████████████████████████████████████| 10000/10000 [19:08<00:00,  8.71it/s]"
     ]
    },
    {
     "name": "stdout",
     "output_type": "stream",
     "text": [
      "\n",
      "training took: 1148.40s or 19.14m\n"
     ]
    },
    {
     "name": "stderr",
     "output_type": "stream",
     "text": [
      "\n"
     ]
    }
   ],
   "source": [
    "st = time.time()\n",
    "for i in tqdm(range(iters)):\n",
    "    xb, yb = get_batch('train')\n",
    "\n",
    "    logits, loss = model(xb, yb)\n",
    "    optimizer.zero_grad(set_to_none=True)\n",
    "    loss.backward()\n",
    "    optimizer.step()\n",
    "\n",
    "    lr = 1e-3 if i > 6500 else 1e-2\n",
    "    if i % i_eval == 0:\n",
    "        tv_loss = estimate_loss(model)\n",
    "        print(f\"step {i}: train loss {tv_loss['train']:.4f} val loss {tv_loss['val']:.4f}\")\n",
    "et = time.time()\n",
    "print()\n",
    "print(f'training took: {et-st:.2f}s or {(et-st)/60:.2f}m')"
   ]
  },
  {
   "cell_type": "code",
   "execution_count": 17,
   "id": "72fe501f-cbc0-4616-b753-a47d01d70fb8",
   "metadata": {
    "id": "72fe501f-cbc0-4616-b753-a47d01d70fb8"
   },
   "outputs": [
    {
     "name": "stdout",
     "output_type": "stream",
     "text": [
      "-- After Training\n",
      "train loss: 1.8865 val loss: 7.1341\n"
     ]
    }
   ],
   "source": [
    "print('-- After Training')\n",
    "tv_loss = estimate_loss(model)\n",
    "print(f\"train loss: {tv_loss['train']:.4f} val loss: {tv_loss['val']:.4f}\")\n",
    "out = model.generate(torch.zeros((1, 1), dtype=torch.long, device=device), max_new_tokens=2500)\n",
    "dout = tks.decode(out[0].tolist())\n",
    "print(tks.detokenize(dout))"
   ]
  },
  {
   "cell_type": "code",
   "execution_count": null,
   "id": "0ea9ee13",
   "metadata": {},
   "outputs": [],
   "source": []
  },
  {
   "cell_type": "code",
   "execution_count": null,
   "id": "6d68b4d9-1496-435f-b99b-5eec803a39f2",
   "metadata": {},
   "outputs": [],
   "source": []
  }
 ],
 "metadata": {
  "accelerator": "GPU",
  "colab": {
   "gpuType": "T4",
   "provenance": []
  },
  "kernelspec": {
   "display_name": "notebook_venv",
   "language": "python",
   "name": "notebook_venv"
  },
  "language_info": {
   "codemirror_mode": {
    "name": "ipython",
    "version": 3
   },
   "file_extension": ".py",
   "mimetype": "text/x-python",
   "name": "python",
   "nbconvert_exporter": "python",
   "pygments_lexer": "ipython3",
   "version": "3.12.4"
  }
 },
 "nbformat": 4,
 "nbformat_minor": 5
}

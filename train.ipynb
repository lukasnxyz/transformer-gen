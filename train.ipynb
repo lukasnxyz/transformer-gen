{
 "cells": [
  {
   "cell_type": "code",
   "execution_count": 14,
   "id": "6e82860d-2592-4be2-bbf2-7124964d6df8",
   "metadata": {},
   "outputs": [],
   "source": [
    "import torch\n",
    "import torch.nn as nn\n",
    "import time\n",
    "\n",
    "from model.transformer import TLM\n",
    "from model.utils import n_params"
   ]
  },
  {
   "cell_type": "code",
   "execution_count": 2,
   "id": "f0c9d7f1-b469-4b91-b864-2790e04dd979",
   "metadata": {},
   "outputs": [
    {
     "name": "stdout",
     "output_type": "stream",
     "text": [
      "using device: mps\n"
     ]
    }
   ],
   "source": [
    "torch.manual_seed(42)\n",
    "d_opts = [('cuda', torch.cuda.is_available()), ('mps', torch.backends.mps.is_available()), ('cpu', True)]\n",
    "device = next(device for device, available in d_opts if available)\n",
    "print(f'using device: {device}')"
   ]
  },
  {
   "cell_type": "code",
   "execution_count": 3,
   "id": "f31bb34e-ab71-4427-9a31-6fed50197e7b",
   "metadata": {},
   "outputs": [],
   "source": [
    "with open('data/truths.txt', 'r', encoding='utf-8') as f: data_txt = f.read()\n",
    "# get all chars\n",
    "chars = sorted(list(set(data_txt)))\n",
    "vocab_size = len(chars)\n",
    "# encode/decode funcs\n",
    "stoi = { ch:i for i,ch in enumerate(chars) }\n",
    "itos = { i:ch for i,ch in enumerate(chars) }\n",
    "encode = lambda s: [stoi[c] for c in s]\n",
    "decode = lambda e: ''.join([itos[i] for i in e])\n",
    "# encode data (chars to corresponding number)\n",
    "data = torch.tensor(encode(data_txt), dtype=torch.long, device=device)\n",
    "# split data into train/val\n",
    "n = int(0.9*len(data)) # 90%, 10%\n",
    "train_data = data[:n]\n",
    "val_data = data[n:]"
   ]
  },
  {
   "cell_type": "code",
   "execution_count": 4,
   "id": "d412055f-3cf4-433c-89b1-6291a7974037",
   "metadata": {},
   "outputs": [],
   "source": [
    "def get_batch(split):\n",
    "    data = train_data if split == 'train' else val_data\n",
    "    ix = torch.randint(len(data) - block_size, (batch_size,))\n",
    "    x = torch.stack([data[i:i+block_size] for i in ix])\n",
    "    y = torch.stack([data[i+1:i+block_size+1] for i in ix])\n",
    "    return x.to(device), y.to(device)"
   ]
  },
  {
   "cell_type": "code",
   "execution_count": 15,
   "id": "26fb22c4-65dc-4d59-873a-9d990c8d2893",
   "metadata": {},
   "outputs": [],
   "source": [
    "@torch.no_grad()\n",
    "def estimate_loss(m):\n",
    "    out = {}\n",
    "    m.eval()\n",
    "    eval_iters = 200\n",
    "    for split in ['train', 'val']:\n",
    "        losses = torch.zeros(eval_iters)\n",
    "        for k in range(eval_iters):\n",
    "            X, Y = get_batch(split)\n",
    "            logits, loss = m(X, Y)\n",
    "            losses[k] = loss.item()\n",
    "        out[split] = losses.mean()\n",
    "    m.train()\n",
    "    return out"
   ]
  },
  {
   "cell_type": "code",
   "execution_count": 16,
   "id": "68ee8709-9236-440a-b8db-10dee2c6c44d",
   "metadata": {},
   "outputs": [],
   "source": [
    "# hyperparameters\n",
    "batch_size = 32\n",
    "block_size = 8\n",
    "n_embd = 32\n",
    "n_blocks = 6\n",
    "n_heads = 4\n",
    "\n",
    "lr = 1e-3\n",
    "epochs = 5000\n",
    "epoch_eval = 500"
   ]
  },
  {
   "cell_type": "code",
   "execution_count": 17,
   "id": "ffc4fbef-78fc-4b8a-a86f-8a182435634c",
   "metadata": {},
   "outputs": [
    {
     "name": "stdout",
     "output_type": "stream",
     "text": [
      "num of params: 79024\n"
     ]
    }
   ],
   "source": [
    "model = TLM(block_size=block_size, n_embd=n_embd, vocab_size=vocab_size, \n",
    "                      n_blocks=n_blocks, n_heads=n_heads, device=device).to(device)\n",
    "optimizer = torch.optim.AdamW(model.parameters(), lr=lr)\n",
    "\n",
    "print(f'num of params: {n_params(model)}') # gpt-2 has 1,500,000,000 (1.5B)"
   ]
  },
  {
   "cell_type": "code",
   "execution_count": 11,
   "id": "581b8b15-8f7a-4751-b1d1-07263d340950",
   "metadata": {},
   "outputs": [
    {
     "name": "stdout",
     "output_type": "stream",
     "text": [
      "step 0: train loss 3.9734 val loss 3.9806\n",
      "step 500: train loss 2.2068 val loss 2.2016\n",
      "step 1000: train loss 2.0046 val loss 1.9909\n",
      "step 1500: train loss 1.9008 val loss 1.9133\n",
      "step 2000: train loss 1.8286 val loss 1.8374\n",
      "step 2500: train loss 1.7858 val loss 1.8190\n",
      "step 3000: train loss 1.7484 val loss 1.7496\n",
      "step 3500: train loss 1.7122 val loss 1.7286\n",
      "step 4000: train loss 1.6871 val loss 1.7052\n",
      "step 4500: train loss 1.6630 val loss 1.7049\n",
      "training took: 389.6s\n"
     ]
    }
   ],
   "source": [
    "st = time.time()\n",
    "for epoch in range(epochs):\n",
    "    xb, yb = get_batch('train')\n",
    "\n",
    "    logits, loss = model(xb, yb)\n",
    "    optimizer.zero_grad(set_to_none=True)\n",
    "    loss.backward()\n",
    "    optimizer.step()\n",
    "\n",
    "    #lr = 1e-4 if epoch > 5000 else 1e-3\n",
    "    if epoch % epoch_eval == 0:\n",
    "        tv_loss = estimate_loss(model)\n",
    "        print(f'step {epoch}: train loss {tv_loss['train']:.4f} val loss {tv_loss['val']:.4f}')\n",
    "et = time.time()\n",
    "print(f'training took: {et-st:.1f}s')"
   ]
  },
  {
   "cell_type": "code",
   "execution_count": 12,
   "id": "72fe501f-cbc0-4616-b753-a47d01d70fb8",
   "metadata": {},
   "outputs": [
    {
     "name": "stdout",
     "output_type": "stream",
     "text": [
      "-- After Training\n",
      "train loss: 1.6433 val loss: 1.665024757385254\n",
      "\n",
      "mactiparctioxid hif cend\n",
      "branphict a plevion is rease\n",
      "a peroces is wilcome equirigquirs\n",
      "near\n",
      "tho sodbicans posito\n",
      "coloon orvitatal anite\n",
      "pood combent\n",
      "coll is a wasits\n",
      "a poperistion\n",
      "morved\n",
      "if earting rasuren revay cuse\"\n",
      "reverignefriains to somethinm a\n"
     ]
    }
   ],
   "source": [
    "print('-- After Training')\n",
    "tv_loss = estimate_loss(model)\n",
    "print(f'train loss: {tv_loss['train']:.4f} val loss: {tv_loss['val']}')\n",
    "print(decode(model.generate(torch.zeros((1, 1), dtype=torch.long, device=device), max_new_tokens=250)[0].tolist()))"
   ]
  },
  {
   "cell_type": "code",
   "execution_count": null,
   "id": "300c3f5e-e44e-40ae-b3d4-a28ef76e5071",
   "metadata": {},
   "outputs": [],
   "source": []
  }
 ],
 "metadata": {
  "kernelspec": {
   "display_name": "notebook_venv",
   "language": "python",
   "name": "notebook_venv"
  },
  "language_info": {
   "codemirror_mode": {
    "name": "ipython",
    "version": 3
   },
   "file_extension": ".py",
   "mimetype": "text/x-python",
   "name": "python",
   "nbconvert_exporter": "python",
   "pygments_lexer": "ipython3",
   "version": "3.12.4"
  }
 },
 "nbformat": 4,
 "nbformat_minor": 5
}

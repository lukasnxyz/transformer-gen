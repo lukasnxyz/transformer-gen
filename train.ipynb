{
 "cells": [
  {
   "cell_type": "code",
   "execution_count": 1,
   "id": "6e82860d-2592-4be2-bbf2-7124964d6df8",
   "metadata": {},
   "outputs": [
    {
     "name": "stderr",
     "output_type": "stream",
     "text": [
      "/Users/ln/Downloads/notebook_venv/lib/python3.12/site-packages/tqdm/auto.py:21: TqdmWarning: IProgress not found. Please update jupyter and ipywidgets. See https://ipywidgets.readthedocs.io/en/stable/user_install.html\n",
      "  from .autonotebook import tqdm as notebook_tqdm\n"
     ]
    }
   ],
   "source": [
    "import torch\n",
    "import torch.nn as nn\n",
    "import time\n",
    "\n",
    "from model.transformer import TLM\n",
    "from model.utils import n_params, flatten_list\n",
    "from tokens import get_word_freqs, get_v, train, tokenize, detokenize, encode, decode, f_stoi, f_itos"
   ]
  },
  {
   "cell_type": "code",
   "execution_count": 2,
   "id": "f0c9d7f1-b469-4b91-b864-2790e04dd979",
   "metadata": {},
   "outputs": [
    {
     "name": "stdout",
     "output_type": "stream",
     "text": [
      "using device: mps\n"
     ]
    }
   ],
   "source": [
    "torch.manual_seed(42)\n",
    "d_opts = [('cuda', torch.cuda.is_available()), ('mps', torch.backends.mps.is_available()), ('cpu', True)]\n",
    "device = next(device for device, available in d_opts if available)\n",
    "print(f'using device: {device}')"
   ]
  },
  {
   "cell_type": "code",
   "execution_count": 4,
   "id": "c948d1f7-0c44-4bd5-b865-9cd2c9bf537b",
   "metadata": {},
   "outputs": [
    {
     "name": "stdout",
     "output_type": "stream",
     "text": [
      "999/1000\r"
     ]
    }
   ],
   "source": [
    "with open ('data/truths.txt', 'r', encoding='utf-8') as f: corpus = f.read().split('\\n')\n",
    "word_freqs = get_word_freqs(corpus)\n",
    "vocab = get_v(word_freqs)\n",
    "splits = {word: [c for c in word] for word in word_freqs.keys()}\n",
    "splits, vocab, merges = train(splits, vocab, word_freqs, 1000)\n",
    "stoi = f_stoi(vocab)\n",
    "itos = f_itos(vocab)\n",
    "tokenized = [tokenize(i, merges) for i in corpus]\n",
    "encoded = [encode(i, stoi) for i in tokenized]\n",
    "data = torch.tensor(flatten_list(encoded), dtype=torch.long, device=device)\n",
    "vocab_size = len(vocab)\n",
    "n = int(0.9*len(data)) # 90%, 10%\n",
    "train_data = data[:n]\n",
    "val_data = data[n:]"
   ]
  },
  {
   "cell_type": "code",
   "execution_count": 9,
   "id": "d412055f-3cf4-433c-89b1-6291a7974037",
   "metadata": {},
   "outputs": [],
   "source": [
    "def get_batch(split):\n",
    "    data = train_data if split == 'train' else val_data\n",
    "    ix = torch.randint(len(data) - block_size, (batch_size,))\n",
    "    x = torch.stack([data[i:i+block_size] for i in ix])\n",
    "    y = torch.stack([data[i+1:i+block_size+1] for i in ix])\n",
    "    return x.to(device), y.to(device)"
   ]
  },
  {
   "cell_type": "code",
   "execution_count": 10,
   "id": "26fb22c4-65dc-4d59-873a-9d990c8d2893",
   "metadata": {},
   "outputs": [],
   "source": [
    "@torch.no_grad()\n",
    "def estimate_loss(m):\n",
    "    out = {}\n",
    "    m.eval()\n",
    "    eval_iters = 200\n",
    "    for split in ['train', 'val']:\n",
    "        losses = torch.zeros(eval_iters)\n",
    "        for k in range(eval_iters):\n",
    "            X, Y = get_batch(split)\n",
    "            logits, loss = m(X, Y)\n",
    "            losses[k] = loss.item()\n",
    "        out[split] = losses.mean()\n",
    "    m.train()\n",
    "    return out"
   ]
  },
  {
   "cell_type": "code",
   "execution_count": 16,
   "id": "68ee8709-9236-440a-b8db-10dee2c6c44d",
   "metadata": {},
   "outputs": [],
   "source": [
    "# hyperparameters\n",
    "batch_size = 32\n",
    "block_size = 16\n",
    "n_embd = 32\n",
    "n_blocks = 4\n",
    "n_heads = 4\n",
    "\n",
    "lr = 1e-2\n",
    "epochs = 5000\n",
    "epoch_eval = 500"
   ]
  },
  {
   "cell_type": "code",
   "execution_count": 17,
   "id": "ffc4fbef-78fc-4b8a-a86f-8a182435634c",
   "metadata": {},
   "outputs": [
    {
     "name": "stdout",
     "output_type": "stream",
     "text": [
      "num of params: 115944\n"
     ]
    }
   ],
   "source": [
    "model = TLM(block_size=block_size, n_embd=n_embd, vocab_size=vocab_size, \n",
    "                      n_blocks=n_blocks, n_heads=n_heads, device=device).to(device)\n",
    "optimizer = torch.optim.AdamW(model.parameters(), lr=lr)\n",
    "lossit = []\n",
    "lissiv = []\n",
    "\n",
    "print(f'num of params: {n_params(model)}') # gpt-2 has 1,500,000,000 (1.5B)"
   ]
  },
  {
   "cell_type": "code",
   "execution_count": 18,
   "id": "581b8b15-8f7a-4751-b1d1-07263d340950",
   "metadata": {},
   "outputs": [
    {
     "name": "stdout",
     "output_type": "stream",
     "text": [
      "step 0: train loss 7.1188 val loss 7.1017\n",
      "step 500: train loss 3.7756 val loss 4.1049\n",
      "step 1000: train loss 3.4866 val loss 3.8757\n",
      "step 1500: train loss 3.3409 val loss 3.7755\n",
      "step 2000: train loss 3.2124 val loss 3.6932\n",
      "step 2500: train loss 3.1518 val loss 3.6309\n",
      "step 3000: train loss 3.0882 val loss 3.6199\n",
      "step 3500: train loss 3.0202 val loss 3.5539\n",
      "step 4000: train loss 3.0024 val loss 3.5563\n",
      "step 4500: train loss 2.9775 val loss 3.5895\n",
      "training took: 269.5s\n"
     ]
    }
   ],
   "source": [
    "st = time.time()\n",
    "for epoch in range(epochs):\n",
    "    xb, yb = get_batch('train')\n",
    "\n",
    "    logits, loss = model(xb, yb)\n",
    "    optimizer.zero_grad(set_to_none=True)\n",
    "    loss.backward()\n",
    "    optimizer.step()\n",
    "\n",
    "    lr = 1e-4 if epoch > 3000 else 1e-2\n",
    "    if epoch % epoch_eval == 0:\n",
    "        tv_loss = estimate_loss(model)\n",
    "        print(f'step {epoch}: train loss {tv_loss['train']:.4f} val loss {tv_loss['val']:.4f}')\n",
    "et = time.time()\n",
    "print(f'training took: {et-st:.1f}s')"
   ]
  },
  {
   "cell_type": "code",
   "execution_count": 29,
   "id": "72fe501f-cbc0-4616-b753-a47d01d70fb8",
   "metadata": {},
   "outputs": [
    {
     "name": "stdout",
     "output_type": "stream",
     "text": [
      "-- After Training\n",
      "train loss: 2.9159 val loss: 3.5250\n",
      "<E>ow down something redensation decreases for a species to move over a period of time a fuelfable means a substance changes from a solid by , the becomes off the weight of that object will increase\"land is a kind of substance increases , the substance synon translic mass of a electromixture of heat with visible light37000not have condenter conductivity than grams for coasingat causes the number of\n"
     ]
    }
   ],
   "source": [
    "print('-- After Training')\n",
    "tv_loss = estimate_loss(model)\n",
    "print(f'train loss: {tv_loss['train']:.4f} val loss: {tv_loss['val']:.4f}')\n",
    "out = model.generate(torch.zeros((1, 1), dtype=torch.long, device=device), max_new_tokens=50)\n",
    "dout = decode(out[0].tolist(), itos)\n",
    "print(detokenize(dout))"
   ]
  },
  {
   "cell_type": "code",
   "execution_count": null,
   "id": "300c3f5e-e44e-40ae-b3d4-a28ef76e5071",
   "metadata": {},
   "outputs": [],
   "source": []
  }
 ],
 "metadata": {
  "kernelspec": {
   "display_name": "notebook_venv",
   "language": "python",
   "name": "notebook_venv"
  },
  "language_info": {
   "codemirror_mode": {
    "name": "ipython",
    "version": 3
   },
   "file_extension": ".py",
   "mimetype": "text/x-python",
   "name": "python",
   "nbconvert_exporter": "python",
   "pygments_lexer": "ipython3",
   "version": "3.12.4"
  }
 },
 "nbformat": 4,
 "nbformat_minor": 5
}
